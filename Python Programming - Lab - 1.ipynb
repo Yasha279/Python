{
 "cells": [
  {
   "cell_type": "markdown",
   "metadata": {},
   "source": [
    "<a href='https://www.darshan.ac.in/'> <img src='https://www.darshan.ac.in/Content/media/DU_Logo.svg' width=\"250\" height=\"10\"/></a>\n",
    "<pre>\n",
    "<center><b><h1>Python Programming - 2301CS404</b></center>\n",
    "<center><b><h1>Lab - 1</b></center>    \n",
    "<pre>"
   ]
  },
  {
   "cell_type": "markdown",
   "metadata": {},
   "source": [
    "### 01) WAP to print “Hello World”"
   ]
  },
  {
   "cell_type": "code",
   "execution_count": 1,
   "metadata": {},
   "outputs": [
    {
     "name": "stdout",
     "output_type": "stream",
     "text": [
      "hello world\n"
     ]
    }
   ],
   "source": [
    " print('hello world')"
   ]
  },
  {
   "cell_type": "markdown",
   "metadata": {},
   "source": [
    "### 02) WAP to print addition of two numbers with and without using input()."
   ]
  },
  {
   "cell_type": "code",
   "execution_count": 5,
   "metadata": {},
   "outputs": [
    {
     "name": "stdout",
     "output_type": "stream",
     "text": [
      "Without input sum is :  14\n"
     ]
    },
    {
     "name": "stdin",
     "output_type": "stream",
     "text": [
      "enter a :  5\n",
      "enter b :  3\n"
     ]
    },
    {
     "name": "stdout",
     "output_type": "stream",
     "text": [
      "sum is :  8\n"
     ]
    }
   ],
   "source": [
    "num1=5\n",
    "num2=9\n",
    "print(\"Without input sum is : \",num1+num2);\n",
    "a=int(input(\"enter a : \"))\n",
    "b=int(input('enter b : '))\n",
    "c=a+b\n",
    "print('sum is : ',c)"
   ]
  },
  {
   "cell_type": "markdown",
   "metadata": {},
   "source": [
    "### 03) WAP to check the type of the variable."
   ]
  },
  {
   "cell_type": "code",
   "execution_count": 7,
   "metadata": {},
   "outputs": [
    {
     "name": "stdin",
     "output_type": "stream",
     "text": [
      "enter variable :  15\n"
     ]
    },
    {
     "name": "stdout",
     "output_type": "stream",
     "text": [
      "<class 'int'>\n"
     ]
    }
   ],
   "source": [
    "var= int(input(\"enter variable : \"))\n",
    "print(type(var))"
   ]
  },
  {
   "cell_type": "markdown",
   "metadata": {},
   "source": [
    "### 04) WAP to calculate simple interest."
   ]
  },
  {
   "cell_type": "code",
   "execution_count": 9,
   "metadata": {},
   "outputs": [
    {
     "name": "stdin",
     "output_type": "stream",
     "text": [
      "Enter principle amount :  1000\n",
      "Enter rate of interest :  2\n",
      "Enter time :  2\n"
     ]
    },
    {
     "name": "stdout",
     "output_type": "stream",
     "text": [
      "Simple interest is :  40.0\n"
     ]
    }
   ],
   "source": [
    "p=float(input(\"Enter principle amount : \"))\n",
    "r=float(input(\"Enter rate of interest : \"))\n",
    "t=float(input(\"Enter time : \"))\n",
    "print(\"Simple interest is : \",(p*r*t)/100)"
   ]
  },
  {
   "cell_type": "markdown",
   "metadata": {},
   "source": [
    "### 05) WAP to calculate area and perimeter of a circle."
   ]
  },
  {
   "cell_type": "code",
   "execution_count": 11,
   "metadata": {},
   "outputs": [
    {
     "name": "stdin",
     "output_type": "stream",
     "text": [
      "enter radius of circle:  5\n"
     ]
    },
    {
     "name": "stdout",
     "output_type": "stream",
     "text": [
      "area of circle :  12.56\n"
     ]
    }
   ],
   "source": [
    "rad=float(input(\"enter radius of circle: \"))\n",
    "print(\"area of circle : \",((3.14)*r*r))"
   ]
  },
  {
   "cell_type": "markdown",
   "metadata": {},
   "source": [
    "### 06) WAP to calculate area of a triangle."
   ]
  },
  {
   "cell_type": "code",
   "execution_count": 13,
   "metadata": {},
   "outputs": [
    {
     "name": "stdin",
     "output_type": "stream",
     "text": [
      "enter base of triangle:  20\n",
      "enter height of triangle:  25\n"
     ]
    },
    {
     "name": "stdout",
     "output_type": "stream",
     "text": [
      "area of triangle :  250.0\n"
     ]
    }
   ],
   "source": [
    "base=float(input(\"enter base of triangle: \"))\n",
    "height=float(input(\"enter height of triangle: \"))\n",
    "\n",
    "print(\"area of triangle : \",((height*base)/2))"
   ]
  },
  {
   "cell_type": "markdown",
   "metadata": {},
   "source": [
    "### 07) WAP to compute quotient and remainder."
   ]
  },
  {
   "cell_type": "code",
   "execution_count": 17,
   "metadata": {},
   "outputs": [
    {
     "name": "stdin",
     "output_type": "stream",
     "text": [
      "Enter number 1:  52\n",
      "Enter number 2:  6\n"
     ]
    },
    {
     "name": "stdout",
     "output_type": "stream",
     "text": [
      "quotient is :  8.666666666666666\n",
      "remainder is :  4.0\n"
     ]
    }
   ],
   "source": [
    "n1=float(input(\"Enter number 1: \"))\n",
    "n2=float(input(\"Enter number 2: \"))\n",
    "print(\"quotient is : \",(n1/n2))\n",
    "print(\"remainder is : \",(n1%n2))"
   ]
  },
  {
   "cell_type": "markdown",
   "metadata": {},
   "source": [
    "### 08) WAP to convert degree into Fahrenheit and vice versa."
   ]
  },
  {
   "cell_type": "code",
   "execution_count": 19,
   "metadata": {},
   "outputs": [
    {
     "name": "stdin",
     "output_type": "stream",
     "text": [
      "Enter calcius :  40\n"
     ]
    },
    {
     "name": "stdout",
     "output_type": "stream",
     "text": [
      "value in fehrenheit :  104.0\n"
     ]
    },
    {
     "name": "stdin",
     "output_type": "stream",
     "text": [
      "Enter fahrenheit :  15\n"
     ]
    },
    {
     "name": "stdout",
     "output_type": "stream",
     "text": [
      "value in calcius :  -9.444444444444445\n"
     ]
    }
   ],
   "source": [
    "cal=float(input(\"Enter calcius : \"))\n",
    "print(\"value in fehrenheit : \",((cal*(9/5))+32))\n",
    "\n",
    "fah=float(input(\"Enter fahrenheit : \"))\n",
    "print(\"value in calcius : \",(fah-32)*(5/9))"
   ]
  },
  {
   "cell_type": "markdown",
   "metadata": {},
   "source": [
    "### 09) WAP to find the distance between two points in 2-D space."
   ]
  },
  {
   "cell_type": "code",
   "execution_count": 27,
   "metadata": {},
   "outputs": [
    {
     "name": "stdin",
     "output_type": "stream",
     "text": [
      "enter x1 : 2\n",
      "enter y1 : 3\n",
      "enter x2 : 5\n",
      "enter y2 : 3\n"
     ]
    },
    {
     "name": "stdout",
     "output_type": "stream",
     "text": [
      "distance between two ponits :  3.0\n"
     ]
    }
   ],
   "source": [
    "import math\n",
    "x1=float(input(\"enter x1 :\" ))\n",
    "y1=float(input(\"enter y1 :\" ))\n",
    "x2=float(input(\"enter x2 :\" ))\n",
    "y2=float(input(\"enter y2 :\" ))\n",
    "print(\"distance between two ponits : \", math.sqrt((x2 - x1)**2 + (y2 - y1)**2))"
   ]
  },
  {
   "cell_type": "markdown",
   "metadata": {},
   "source": [
    "### 10) WAP to print sum of n natural numbers."
   ]
  },
  {
   "cell_type": "code",
   "execution_count": 45,
   "metadata": {},
   "outputs": [
    {
     "name": "stdin",
     "output_type": "stream",
     "text": [
      "Enter n:  2\n"
     ]
    },
    {
     "name": "stdout",
     "output_type": "stream",
     "text": [
      "Sum of first 2 natural numbers is: 3\n"
     ]
    }
   ],
   "source": [
    "n = int(input(\"Enter n: \")) \n",
    "\n",
    "sum = 0  \n",
    "\n",
    "for i in range(1, n + 1):\n",
    "    sum =sum+i \n",
    "\n",
    "print(\"Sum of first\", n, \"natural numbers is:\", sum)"
   ]
  },
  {
   "cell_type": "markdown",
   "metadata": {},
   "source": [
    "### 11) WAP to print sum of square of n natural numbers."
   ]
  },
  {
   "cell_type": "code",
   "execution_count": 51,
   "metadata": {},
   "outputs": [
    {
     "name": "stdin",
     "output_type": "stream",
     "text": [
      "Enter m:  3\n"
     ]
    },
    {
     "name": "stdout",
     "output_type": "stream",
     "text": [
      "Sum of first 3 natural numbers is: 14\n"
     ]
    }
   ],
   "source": [
    "m = int(input(\"Enter m: \")) \n",
    "\n",
    "sum = 0  \n",
    "\n",
    "for i in range(1, m + 1):\n",
    "    sum =sum+(i)*(i) \n",
    "\n",
    "print(\"Sum of first\", m, \"natural numbers is:\", sum)"
   ]
  },
  {
   "cell_type": "markdown",
   "metadata": {},
   "source": [
    "### 12) WAP to concate the first and last name of the student."
   ]
  },
  {
   "cell_type": "code",
   "execution_count": 61,
   "metadata": {},
   "outputs": [
    {
     "name": "stdin",
     "output_type": "stream",
     "text": [
      "Enter first name :  tanisha\n",
      "Enter last name :  patel\n"
     ]
    },
    {
     "name": "stdout",
     "output_type": "stream",
     "text": [
      "Full name is :  tanisha patel\n"
     ]
    }
   ],
   "source": [
    "fName=input(\"Enter first name : \")\n",
    "lName=input(\"Enter last name : \")\n",
    "full=fName + \" \" +lName\n",
    "print(\"Full name is : \",full)"
   ]
  },
  {
   "cell_type": "markdown",
   "metadata": {},
   "source": [
    "### 13) WAP to swap two numbers."
   ]
  },
  {
   "cell_type": "code",
   "execution_count": 69,
   "metadata": {},
   "outputs": [
    {
     "name": "stdout",
     "output_type": "stream",
     "text": [
      "with hepl of third variable : \n"
     ]
    },
    {
     "name": "stdin",
     "output_type": "stream",
     "text": [
      "enter number 1:  5\n",
      "enter number 2:  2\n"
     ]
    },
    {
     "name": "stdout",
     "output_type": "stream",
     "text": [
      "number 1 is :  2 number 2 is :  5\n",
      "without third variable: \n",
      "number 1 is :  5 number 2 is :  2\n"
     ]
    }
   ],
   "source": [
    "print(\"with hepl of third variable : \")\n",
    "l1=int(input(\"enter number 1: \"))\n",
    "l2=int(input(\"enter number 2: \"))\n",
    "l3=l1\n",
    "l1=l2\n",
    "l2=l3\n",
    "print(\"number 1 is : \",l1,\"number 2 is : \",l2)\n",
    "print(\"without third variable: \")\n",
    "l1=l1+l2\n",
    "l2=l1-l2\n",
    "l1=l1-l2\n",
    "print(\"number 1 is : \",l1,\"number 2 is : \",l2)"
   ]
  },
  {
   "cell_type": "markdown",
   "metadata": {},
   "source": [
    "### 14) WAP to get the distance from user into kilometer, and convert it into meter, feet, inches and centimeter."
   ]
  },
  {
   "cell_type": "code",
   "execution_count": 73,
   "metadata": {},
   "outputs": [
    {
     "name": "stdin",
     "output_type": "stream",
     "text": [
      "enter distance in kilometers :  20\n"
     ]
    },
    {
     "name": "stdout",
     "output_type": "stream",
     "text": [
      "20.0 kilometers is equal to:\n",
      "20000.0 meters\n",
      "65616.8 feet\n",
      "787402.0 inches\n",
      "2000000.0 centimeters\n"
     ]
    }
   ],
   "source": [
    "km=float(input(\"enter distance in kilometers : \"))\n",
    "meter=km * 1000\n",
    "feet = km * 3280.84\n",
    "inches = km * 39370.1\n",
    "centimeters = km * 100000\n",
    "print(f\"{meter} meters\")\n",
    "print(f\"{feet} feet\")\n",
    "print(f\"{inches} inches\")\n",
    "print(f\"{centimeters} centimeters\")"
   ]
  },
  {
   "cell_type": "markdown",
   "metadata": {},
   "source": [
    "### 15) WAP to get day, month and year from the user and print the date in the given format: 23-11-2024."
   ]
  },
  {
   "cell_type": "code",
   "execution_count": 79,
   "metadata": {},
   "outputs": [
    {
     "name": "stdin",
     "output_type": "stream",
     "text": [
      "enter days :  23\n",
      "enter month :  11\n",
      "enter year :  2024\n"
     ]
    },
    {
     "name": "stdout",
     "output_type": "stream",
     "text": [
      "23-11-2024\n",
      "23 - 11 - 2024\n"
     ]
    }
   ],
   "source": [
    "day=int(input(\"enter days : \"))\n",
    "month=int(input(\"enter month : \"))\n",
    "year=int(input(\"enter year : \"))\n",
    "print(f\"{day:02d}-{month:02d}-{year}\")\n",
    "print(day,\"-\",month,\"-\",year)"
   ]
  },
  {
   "cell_type": "code",
   "execution_count": null,
   "metadata": {},
   "outputs": [],
   "source": []
  }
 ],
 "metadata": {
  "kernelspec": {
   "display_name": "Python 3 (ipykernel)",
   "language": "python",
   "name": "python3"
  },
  "language_info": {
   "codemirror_mode": {
    "name": "ipython",
    "version": 3
   },
   "file_extension": ".py",
   "mimetype": "text/x-python",
   "name": "python",
   "nbconvert_exporter": "python",
   "pygments_lexer": "ipython3",
   "version": "3.12.7"
  },
  "vscode": {
   "interpreter": {
    "hash": "31f2aee4e71d21fbe5cf8b01ff0e069b9275f58929596ceb00d14d90e3e16cd6"
   }
  }
 },
 "nbformat": 4,
 "nbformat_minor": 4
}
